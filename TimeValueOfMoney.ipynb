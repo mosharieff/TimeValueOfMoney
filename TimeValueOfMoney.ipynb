{
 "cells": [
  {
   "cell_type": "markdown",
   "id": "2c0b8b97",
   "metadata": {},
   "source": [
    "# Time Value of Money w/ Python\n",
    "\n",
    "#### By. Mo Sharieff"
   ]
  },
  {
   "cell_type": "markdown",
   "id": "20ce07a0",
   "metadata": {},
   "source": [
    "## Simple Interest [SI]\n",
    "\n",
    "##### Solving for FV\n",
    "$ \\Large FV=PV(1+rt) $\n",
    "\n",
    "##### Solving for PV\n",
    "$ \\Large PV=\\dfrac{FV}{(1+rt)} $\n",
    "\n",
    "##### Solving for r\n",
    "$ \\Large r = \\dfrac{\\tfrac{FV}{PV}-1}{t} $\n",
    "\n",
    "##### Solving for t\n",
    "$ \\Large t = \\dfrac{\\tfrac{FV}{PV}-1}{r} $"
   ]
  },
  {
   "cell_type": "code",
   "execution_count": 1,
   "id": "6f927dc0",
   "metadata": {},
   "outputs": [],
   "source": [
    "# IMPORT NUMPY WHICH IS A VERY IMPORTANT PYTHON LIBRARY\n",
    "\n",
    "import numpy as np"
   ]
  },
  {
   "cell_type": "code",
   "execution_count": 4,
   "id": "edbb8501",
   "metadata": {},
   "outputs": [
    {
     "name": "stdout",
     "output_type": "stream",
     "text": [
      "Formula Checks Out:  100.0\n"
     ]
    }
   ],
   "source": [
    "# Create a class (think of a box with stuff in it) called SI for Simple Interest\n",
    "\n",
    "class SI:\n",
    "    \n",
    "    # Solves for future value given present value, rate, and time\n",
    "    def FV(pv, r, t):\n",
    "        return pv*(1 + r*t)\n",
    "    \n",
    "    # Solves for present value given future value, rate, and time\n",
    "    def PV(fv, r, t):\n",
    "        return fv/(1+r*t)\n",
    "    \n",
    "    # Solves for the simple interest rate given present value, future value, and time\n",
    "    def R(pv, fv, t):\n",
    "        return ((fv/pv) - 1)/t\n",
    "    \n",
    "    # Solves for the time given present value, future value, and simple interest rate\n",
    "    def T(pv, fv, r):\n",
    "        return ((fv/pv) - 1)/r\n",
    "    \n",
    "\n",
    "fv = SI.FV(100, 0.05, 5)\n",
    "r = SI.R(100, fv, 5)\n",
    "pv = SI.PV(fv, r, 5)\n",
    "\n",
    "print(\"Formula Checks Out: \", pv)"
   ]
  },
  {
   "cell_type": "markdown",
   "id": "dee53617",
   "metadata": {},
   "source": [
    "## Compound Interest [CI]\n",
    "\n",
    "##### Solving for FV\n",
    "$ \\Large FV=PV(1+r)^t $\n",
    "\n",
    "##### Solving for PV\n",
    "$ \\Large PV=\\dfrac{FV}{(1+r)^t} $\n",
    "\n",
    "##### Solving for r\n",
    "$ \\Large r = e^\\tfrac{ln \\Big (\\tfrac{FV}{PV} \\Big)}{t} - 1 $\n",
    "##### Solving for t\n",
    "$ \\Large t = \\dfrac{ln \\Big ( \\tfrac{FV}{PV} \\Big)}{ln(1 + r)} $"
   ]
  },
  {
   "cell_type": "code",
   "execution_count": 3,
   "id": "42daa140",
   "metadata": {},
   "outputs": [
    {
     "name": "stdout",
     "output_type": "stream",
     "text": [
      "Formula Checks Out:  100.0\n"
     ]
    }
   ],
   "source": [
    "# Create a class for Compound Interest\n",
    "\n",
    "class CI:\n",
    "    \n",
    "    # Solves for future value given present value, interest rate, and time\n",
    "    def FV(pv, r, t):\n",
    "        return pv*(1+r)**t\n",
    "    \n",
    "    # Solves for present value given future value, interest rate, and time\n",
    "    def PV(fv, r, t):\n",
    "        return fv/(1+r)**t\n",
    "    \n",
    "    # Solves for the interest rate given the present value, future value, and time\n",
    "    def R(pv, fv, t):\n",
    "        return np.exp(np.log(fv/pv)/t) - 1\n",
    "    \n",
    "    # Solves for time given the present value, future value, and interest rate\n",
    "    def T(pv, fv, r):\n",
    "        return np.log(fv/pv)/np.log(1 + r)\n",
    "    \n",
    "\n",
    "fv = CI.FV(100, 0.05, 5)\n",
    "r = CI.R(100, fv, 5)\n",
    "pv = CI.PV(fv, r, 5)\n",
    "\n",
    "print(\"Formula Checks Out: \", pv)"
   ]
  },
  {
   "cell_type": "markdown",
   "id": "97db5db4",
   "metadata": {},
   "source": [
    "## Perpetuity [PT]\n",
    "\n",
    "##### Solving for PV\n",
    "$ \\Large PV = \\dfrac{c}{r} $\n",
    "\n",
    "##### Solving for r\n",
    "$ \\Large r = \\dfrac{c}{PV} $\n",
    "\n",
    "##### Solving for c\n",
    "$ \\Large c = PV*r $"
   ]
  },
  {
   "cell_type": "code",
   "execution_count": 6,
   "id": "9b53aeb1",
   "metadata": {},
   "outputs": [
    {
     "name": "stdout",
     "output_type": "stream",
     "text": [
      "Formula Checks Out:  500.0\n"
     ]
    }
   ],
   "source": [
    "class PT:\n",
    "    \n",
    "    # Calculate the present value of a stream of cashflows given the cashflow amount and interest rate\n",
    "    def PV(c, r):\n",
    "        return c/r\n",
    "    \n",
    "    # Calculate the interest rate of a stream of cashflows given its present value\n",
    "    def R(pv, c):\n",
    "        return c/pv\n",
    "    \n",
    "    # Calculate cashflow given present value and interest rate\n",
    "    def C(pv, r):\n",
    "        return pv*r\n",
    "    \n",
    "pv = PT.PV(500, 0.09)\n",
    "r = PT.R(pv, 500)\n",
    "c = PT.C(pv, r)\n",
    "print(\"Formula Checks Out: \", c)"
   ]
  },
  {
   "cell_type": "markdown",
   "id": "8c838f70",
   "metadata": {},
   "source": [
    "## AnnuityPV [APV]\n",
    "\n",
    "##### Solving for PV\n",
    "$ \\Large PV = \\dfrac{c}{r}(1 - (1 + r)^{-t}) $\n",
    "\n",
    "##### Solving for C\n",
    "$ C = \\Large \\dfrac{PV*r}{(1 - (1 + r)^{-t})} $"
   ]
  },
  {
   "cell_type": "markdown",
   "id": "964f6615",
   "metadata": {},
   "source": [
    "##### Solving for r\n",
    "\n",
    "In order to solve for 'r' in the Annuity formula, we need to use the Newton-Ralphson method which takes the present value function and calculates its derivative using the product rule. We then select an arbitrary rate 'r = 0.01' for example and do the following formula.\n",
    "\n",
    "\n",
    "\n",
    "$ \\Large r_{i+1} = r_i - \\dfrac{f(r_i) - PV}{\\partial f(r_i)} $\n",
    "\n",
    "for a number of 'i' iterations.\n",
    "\n",
    "$ \\Large \\begin{matrix} f(r_i) = \\dfrac{c}{r_i}(1 - (1 + r_i)^{-t})  \\\\ \\partial f(r_i) = \\dfrac{ct}{r_i(1+r_i)^{t+1}} -\\dfrac{c}{r_i^2}(1 - (1 + r_i)^{-t}) \\end{matrix} $\n",
    "\n"
   ]
  },
  {
   "cell_type": "markdown",
   "id": "d9051664",
   "metadata": {},
   "source": [
    "##### Solving for t\n",
    "$ t = -\\Large \\dfrac{ln(1 - pv*r/c)}{ln(1+r)} $"
   ]
  },
  {
   "cell_type": "code",
   "execution_count": 19,
   "id": "de86c026",
   "metadata": {},
   "outputs": [
    {
     "name": "stdout",
     "output_type": "stream",
     "text": [
      "Function Checks Out:  4000.00000003865\n"
     ]
    }
   ],
   "source": [
    "# Create annuity pv class\n",
    "\n",
    "class APV:\n",
    "    \n",
    "    # Calculates the present value of an annuity given the cash flow, interest rate, and time\n",
    "    def PV(c, r, t):\n",
    "        return (c/r)*(1 - (1 + r)**(-t))\n",
    "    \n",
    "    # Calculates the cashflow of an annuity given its present value, interest rate, and time\n",
    "    def C(pv, r, t):\n",
    "        return (pv*r)/(1 - (1 + r)**(-t))\n",
    "    \n",
    "    # Calculates the interest rate given present value, cash flow, and time\n",
    "    def R(pv, c, t):\n",
    "        # Define initial interest rates\n",
    "        r0, r1 = -0.99, 0.99\n",
    "        \n",
    "        # Define error level\n",
    "        error = 0.0001\n",
    "        \n",
    "        # Define derivative\n",
    "        def derivative(c, r, t):\n",
    "            A = (c*t)/(r*(1+r)**(t+1))\n",
    "            B = (c/r**2)*(1-(1+r)**(-t))\n",
    "            return A - B\n",
    "        \n",
    "        # Loop until rate is calculated\n",
    "        while True:\n",
    "            \n",
    "            # Newton-Ralphson formula\n",
    "            r1 = r0 - (APV.PV(c, r0, t) - pv)/derivative(c, r0, t)\n",
    "            \n",
    "            # Break if error level is met\n",
    "            if abs(r1 - r0) < error:\n",
    "                break\n",
    "            \n",
    "            # Iteration\n",
    "            r0 = r1\n",
    "            \n",
    "        return r1\n",
    "    \n",
    "    # Calculates the time given the present value, cash flow, and interest rate\n",
    "    def T(pv, c, r):\n",
    "        return -np.log(1 - pv*r/c)/np.log(1 + r)\n",
    "    \n",
    "    \n",
    "T = APV.T(4000, 300, 0.03)\n",
    "R = APV.R(4000, 300, T)\n",
    "pv = APV.PV(300, R, T)\n",
    "print(\"Function Checks Out: \", pv)"
   ]
  },
  {
   "cell_type": "markdown",
   "id": "9384d47e",
   "metadata": {},
   "source": [
    "## AnnuityFV [AFV]\n",
    "\n",
    "##### Solving for PV\n",
    "$ \\Large FV = \\dfrac{c}{r}((1 + r)^t - 1) $\n",
    "\n",
    "##### Solving for C\n",
    "$ C = \\Large \\dfrac{FV*r}{((1 + r)^t - 1)} $"
   ]
  },
  {
   "cell_type": "markdown",
   "id": "134cbd6c",
   "metadata": {},
   "source": [
    "##### Solving for r\n",
    "\n",
    "In order to solve for 'r' in the Annuity formula, we need to use the Newton-Ralphson method which takes the present value function and calculates its derivative using the product rule. We then select an arbitrary rate 'r = 0.01' for example and do the following formula.\n",
    "\n",
    "\n",
    "$ \\Large r_{i+1} = r_i - \\dfrac{f(r_i) - FV}{\\partial f(r_i)} $\n",
    "\n",
    "for a number of 'i' iterations.\n",
    "\n",
    "$ \\Large \\begin{matrix} f(r_i) = \\dfrac{c}{r_i}((1 + r_i)^{t} - 1)  \\\\ \\partial f(r_i) = \\dfrac{ct(1+r_i)^{t-1}}{r_i} -\\dfrac{c}{r_i^2}((1 + r_i)^{t}-1) \\end{matrix} $\n",
    "\n",
    "##### Solving for t\n",
    "$ \\Large t = \\dfrac{ln \\Big (\\tfrac{FV*r}{c} + 1 \\Big )}{ln(1+r)} $"
   ]
  },
  {
   "cell_type": "code",
   "execution_count": 28,
   "id": "bcc2657a",
   "metadata": {},
   "outputs": [
    {
     "name": "stdout",
     "output_type": "stream",
     "text": [
      "Formulas Check Out:  6.999999995394892\n"
     ]
    }
   ],
   "source": [
    "# Create an Annuity FV class\n",
    "\n",
    "class AFV:\n",
    "    \n",
    "    # Calculates the future value of an annuity given a payment stream, interest rate, and time\n",
    "    def FV(c, r, t):\n",
    "        return (c/r)*((1+r)**t - 1)\n",
    "    \n",
    "    # Calculates the cash flow of an annuity given the future value, interest rate, and time\n",
    "    def C(fv, r, t):\n",
    "        return (fv*r)/((1+r)**t - 1)\n",
    "    \n",
    "    # Calculates the interest rate of an annuity given the future value, cash flow, and time\n",
    "    def R(fv, c, t):\n",
    "        # Define initial interest rates\n",
    "        r0, r1 = 0.01, 0.99\n",
    "        \n",
    "        # Define error level\n",
    "        error = 0.0001\n",
    "        \n",
    "        # Define derivative\n",
    "        def derivative(c, r, t):\n",
    "            A = (c*t*(1+r)**(t - 1))/r\n",
    "            B = (c/r**2)*((1 + r)**t - 1)\n",
    "            return A - B\n",
    "        \n",
    "        # Loop until rate is calculated\n",
    "        while True:\n",
    "            \n",
    "            # Newton-Ralphson formula\n",
    "            r1 = r0 - (AFV.FV(c, r0, t) - fv)/derivative(c, r0, t)\n",
    "            \n",
    "            # Break if error level is met\n",
    "            if abs(r1 - r0) < error:\n",
    "                break\n",
    "            \n",
    "            # Iteration\n",
    "            r0 = r1\n",
    "            \n",
    "        return r1\n",
    "    \n",
    "    # Returns the time length of an annuity given its future value, cash flow, and interest rate\n",
    "    def T(fv, c, r):\n",
    "        return np.log(fv*r/c + 1)/np.log(1 + r)\n",
    "    \n",
    "\n",
    "c = AFV.C(9000, 0.05, 7)\n",
    "fv = AFV.FV(c, 0.05, 7)\n",
    "r = AFV.R(fv, c, 7)\n",
    "t = AFV.T(fv, c, r)\n",
    "print(\"Formulas Check Out: \", t)"
   ]
  }
 ],
 "metadata": {
  "kernelspec": {
   "display_name": "Python 3 (ipykernel)",
   "language": "python",
   "name": "python3"
  },
  "language_info": {
   "codemirror_mode": {
    "name": "ipython",
    "version": 3
   },
   "file_extension": ".py",
   "mimetype": "text/x-python",
   "name": "python",
   "nbconvert_exporter": "python",
   "pygments_lexer": "ipython3",
   "version": "3.7.2"
  }
 },
 "nbformat": 4,
 "nbformat_minor": 5
}
