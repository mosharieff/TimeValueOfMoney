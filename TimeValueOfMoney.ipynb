{
 "cells": [
  {
   "cell_type": "markdown",
   "id": "2c0b8b97",
   "metadata": {},
   "source": [
    "# Time Value of Money w/ Python\n",
    "\n",
    "#### By. Mo Sharieff"
   ]
  },
  {
   "cell_type": "markdown",
   "id": "20ce07a0",
   "metadata": {},
   "source": [
    "## Simple Interest [SI]\n",
    "\n",
    "##### Solving for FV\n",
    "$ \\Large FV=PV(1+rt) $\n",
    "\n",
    "##### Solving for PV\n",
    "$ \\Large PV=\\dfrac{FV}{(1+rt)} $\n",
    "\n",
    "##### Solving for r\n",
    "$ \\Large r = \\dfrac{\\tfrac{FV}{PV}-1}{t} $\n",
    "\n",
    "##### Solving for t\n",
    "$ \\Large t = \\dfrac{\\tfrac{FV}{PV}-1}{r} $"
   ]
  },
  {
   "cell_type": "code",
   "execution_count": 1,
   "id": "6f927dc0",
   "metadata": {},
   "outputs": [],
   "source": [
    "# IMPORT NUMPY WHICH IS A VERY IMPORTANT PYTHON LIBRARY\n",
    "\n",
    "import numpy as np\n",
    "import math"
   ]
  },
  {
   "cell_type": "code",
   "execution_count": 2,
   "id": "edbb8501",
   "metadata": {},
   "outputs": [
    {
     "name": "stdout",
     "output_type": "stream",
     "text": [
      "Formula Checks Out:  100.0\n"
     ]
    }
   ],
   "source": [
    "# Create a class (think of a box with stuff in it) called SI for Simple Interest\n",
    "\n",
    "class SI:\n",
    "    \n",
    "    # Solves for future value given present value, rate, and time\n",
    "    def FV(pv, r, t):\n",
    "        return pv*(1 + r*t)\n",
    "    \n",
    "    # Solves for present value given future value, rate, and time\n",
    "    def PV(fv, r, t):\n",
    "        return fv/(1+r*t)\n",
    "    \n",
    "    # Solves for the simple interest rate given present value, future value, and time\n",
    "    def R(pv, fv, t):\n",
    "        return ((fv/pv) - 1)/t\n",
    "    \n",
    "    # Solves for the time given present value, future value, and simple interest rate\n",
    "    def T(pv, fv, r):\n",
    "        return ((fv/pv) - 1)/r\n",
    "    \n",
    "\n",
    "fv = SI.FV(100, 0.05, 5)\n",
    "r = SI.R(100, fv, 5)\n",
    "pv = SI.PV(fv, r, 5)\n",
    "\n",
    "print(\"Formula Checks Out: \", pv)"
   ]
  },
  {
   "cell_type": "markdown",
   "id": "dee53617",
   "metadata": {},
   "source": [
    "## Compound Interest [CI]\n",
    "\n",
    "##### Solving for FV\n",
    "$ \\Large FV=PV(1+r)^t $\n",
    "\n",
    "##### Solving for PV\n",
    "$ \\Large PV=\\dfrac{FV}{(1+r)^t} $\n",
    "\n",
    "##### Solving for r\n",
    "$ \\Large r = e^\\tfrac{ln \\Big (\\tfrac{FV}{PV} \\Big)}{t} - 1 $\n",
    "##### Solving for t\n",
    "$ \\Large t = \\dfrac{ln \\Big ( \\tfrac{FV}{PV} \\Big)}{ln(1 + r)} $"
   ]
  },
  {
   "cell_type": "code",
   "execution_count": 3,
   "id": "42daa140",
   "metadata": {},
   "outputs": [
    {
     "name": "stdout",
     "output_type": "stream",
     "text": [
      "Formula Checks Out:  100.0\n"
     ]
    }
   ],
   "source": [
    "# Create a class for Compound Interest\n",
    "\n",
    "class CI:\n",
    "    \n",
    "    # Solves for future value given present value, interest rate, and time\n",
    "    def FV(pv, r, t):\n",
    "        return pv*(1+r)**t\n",
    "    \n",
    "    # Solves for present value given future value, interest rate, and time\n",
    "    def PV(fv, r, t):\n",
    "        return fv/(1+r)**t\n",
    "    \n",
    "    # Solves for the interest rate given the present value, future value, and time\n",
    "    def R(pv, fv, t):\n",
    "        return np.exp(np.log(fv/pv)/t) - 1\n",
    "    \n",
    "    # Solves for time given the present value, future value, and interest rate\n",
    "    def T(pv, fv, r):\n",
    "        return np.log(fv/pv)/np.log(1 + r)\n",
    "    \n",
    "\n",
    "fv = CI.FV(100, 0.05, 5)\n",
    "r = CI.R(100, fv, 5)\n",
    "pv = CI.PV(fv, r, 5)\n",
    "\n",
    "print(\"Formula Checks Out: \", pv)"
   ]
  },
  {
   "cell_type": "markdown",
   "id": "97db5db4",
   "metadata": {},
   "source": [
    "## Perpetuity [PT]\n",
    "\n",
    "### Regular Perpetuity\n",
    "##### Solving for PV\n",
    "$ \\Large PV = \\dfrac{c}{r} $\n",
    "\n",
    "##### Solving for r\n",
    "$ \\Large r = \\dfrac{c}{PV} $\n",
    "\n",
    "##### Solving for c\n",
    "$ \\Large c = PV*r $\n",
    "\n",
    "### Growing Perpetuity\n",
    "\n",
    "##### Solving for PV\n",
    "$ \\Large PV = \\dfrac{c}{r-g} $\n",
    "\n",
    "##### Solving for r\n",
    "\n",
    "$ \\Large r = \\dfrac{c}{PV} + g $\n",
    "\n",
    "##### Solving for c\n",
    "$ \\Large c = PV(r - g) $\n",
    "\n",
    "##### Solving for g\n",
    "\n",
    "$ \\Large g = r - \\dfrac{c}{PV} $\n"
   ]
  },
  {
   "cell_type": "code",
   "execution_count": 4,
   "id": "9b53aeb1",
   "metadata": {},
   "outputs": [
    {
     "name": "stdout",
     "output_type": "stream",
     "text": [
      "Regular Perpetuity Formula Checks Out:  500.0\n",
      "Growing Perpetuity Formula Checks Out:  499.99999999999994\n"
     ]
    }
   ],
   "source": [
    "class PT:\n",
    "    \n",
    "    # Calculate the present value of a stream of cashflows given the cashflow amount and interest rate\n",
    "    def PV(c, r):\n",
    "        return c/r\n",
    "    \n",
    "    # Calculate the interest rate of a stream of cashflows given its present value\n",
    "    def R(pv, c):\n",
    "        return c/pv\n",
    "    \n",
    "    # Calculate cashflow given present value and interest rate\n",
    "    def C(pv, r):\n",
    "        return pv*r\n",
    "\n",
    "    # Get present value of growing perpetuity\n",
    "    def PVG(c, r, g):\n",
    "        return c / (r - g)\n",
    "\n",
    "    # Solve for the interest rate in a growing perpetuity\n",
    "    def RG(c, pv, g):\n",
    "        return c/pv + g\n",
    "\n",
    "    # Solving for growth rate in growing perpetuity\n",
    "    def GG(c, pv, r):\n",
    "        return r - c/pv\n",
    "\n",
    "    # Calculating cash flow of growing perpetuity\n",
    "    def CG(pv, r, g):\n",
    "        return pv*(r - g)\n",
    "\n",
    "\n",
    "    \n",
    "pv = PT.PV(500, 0.09)\n",
    "r = PT.R(pv, 500)\n",
    "c = PT.C(pv, r)\n",
    "print(\"Regular Perpetuity Formula Checks Out: \", c)\n",
    "\n",
    "pv = PT.PVG(500, 0.05, 0.02)\n",
    "r = PT.RG(500, pv, 0.02)\n",
    "c = PT.CG(pv, r, 0.02)\n",
    "print(\"Growing Perpetuity Formula Checks Out: \",c)"
   ]
  },
  {
   "cell_type": "markdown",
   "id": "8c838f70",
   "metadata": {},
   "source": [
    "## AnnuityPV [APV]\n",
    "\n",
    "##### Solving for PV\n",
    "$ \\Large PV = \\dfrac{c}{r}(1 - (1 + r)^{-t}) $\n",
    "\n",
    "##### Solving for C\n",
    "$ C = \\Large \\dfrac{PV*r}{(1 - (1 + r)^{-t})} $"
   ]
  },
  {
   "cell_type": "markdown",
   "id": "964f6615",
   "metadata": {},
   "source": [
    "##### Solving for r\n",
    "\n",
    "In order to solve for 'r' in the Annuity formula, we need to use the Newton-Ralphson method which takes the present value function and calculates its derivative using the product rule. We then select an arbitrary rate 'r = 0.01' for example and do the following formula.\n",
    "\n",
    "\n",
    "\n",
    "$ \\Large r_{i+1} = r_i - \\dfrac{f(r_i) - PV}{\\partial f(r_i)} $\n",
    "\n",
    "for a number of 'i' iterations.\n",
    "\n",
    "$ \\Large \\begin{matrix} f(r_i) = \\dfrac{c}{r_i}(1 - (1 + r_i)^{-t})  \\\\ \\partial f(r_i) = \\dfrac{ct}{r_i(1+r_i)^{t+1}} -\\dfrac{c}{r_i^2}(1 - (1 + r_i)^{-t}) \\end{matrix} $\n",
    "\n"
   ]
  },
  {
   "cell_type": "markdown",
   "id": "d9051664",
   "metadata": {},
   "source": [
    "##### Solving for t\n",
    "$ t = -\\Large \\dfrac{ln(1 - pv*r/c)}{ln(1+r)} $"
   ]
  },
  {
   "cell_type": "code",
   "execution_count": 5,
   "id": "de86c026",
   "metadata": {},
   "outputs": [
    {
     "name": "stdout",
     "output_type": "stream",
     "text": [
      "Function Checks Out:  4000.00000003865\n"
     ]
    }
   ],
   "source": [
    "# Create annuity pv class\n",
    "\n",
    "class APV:\n",
    "    \n",
    "    # Calculates the present value of an annuity given the cash flow, interest rate, and time\n",
    "    def PV(c, r, t):\n",
    "        return (c/r)*(1 - (1 + r)**(-t))\n",
    "    \n",
    "    # Calculates the cashflow of an annuity given its present value, interest rate, and time\n",
    "    def C(pv, r, t):\n",
    "        return (pv*r)/(1 - (1 + r)**(-t))\n",
    "    \n",
    "    # Calculates the interest rate given present value, cash flow, and time\n",
    "    def R(pv, c, t):\n",
    "        # Define initial interest rates\n",
    "        r0, r1 = -0.99, 0.99\n",
    "        \n",
    "        # Define error level\n",
    "        error = 0.0001\n",
    "        \n",
    "        # Define derivative\n",
    "        def derivative(c, r, t):\n",
    "            A = (c*t)/(r*(1+r)**(t+1))\n",
    "            B = (c/r**2)*(1-(1+r)**(-t))\n",
    "            return A - B\n",
    "        \n",
    "        # Loop until rate is calculated\n",
    "        while True:\n",
    "            \n",
    "            # Newton-Ralphson formula\n",
    "            r1 = r0 - (APV.PV(c, r0, t) - pv)/derivative(c, r0, t)\n",
    "            \n",
    "            # Break if error level is met\n",
    "            if abs(r1 - r0) < error:\n",
    "                break\n",
    "            \n",
    "            # Iteration\n",
    "            r0 = r1\n",
    "            \n",
    "        return r1\n",
    "    \n",
    "    # Calculates the time given the present value, cash flow, and interest rate\n",
    "    def T(pv, c, r):\n",
    "        return -np.log(1 - pv*r/c)/np.log(1 + r)\n",
    "    \n",
    "    \n",
    "T = APV.T(4000, 300, 0.03)\n",
    "R = APV.R(4000, 300, T)\n",
    "pv = APV.PV(300, R, T)\n",
    "print(\"Function Checks Out: \", pv)"
   ]
  },
  {
   "cell_type": "markdown",
   "id": "9384d47e",
   "metadata": {},
   "source": [
    "## AnnuityFV [AFV]\n",
    "\n",
    "##### Solving for FV\n",
    "$ \\Large FV = \\dfrac{c}{r}((1 + r)^t - 1) $\n",
    "\n",
    "##### Solving for C\n",
    "$ C = \\Large \\dfrac{FV*r}{((1 + r)^t - 1)} $"
   ]
  },
  {
   "cell_type": "markdown",
   "id": "134cbd6c",
   "metadata": {},
   "source": [
    "##### Solving for r\n",
    "\n",
    "In order to solve for 'r' in the Annuity formula, we need to use the Newton-Ralphson method which takes the present value function and calculates its derivative using the product rule. We then select an arbitrary rate 'r = 0.01' for example and do the following formula.\n",
    "\n",
    "\n",
    "$ \\Large r_{i+1} = r_i - \\dfrac{f(r_i) - FV}{\\partial f(r_i)} $\n",
    "\n",
    "for a number of 'i' iterations.\n",
    "\n",
    "$ \\Large \\begin{matrix} f(r_i) = \\dfrac{c}{r_i}((1 + r_i)^{t} - 1)  \\\\ \\partial f(r_i) = \\dfrac{ct(1+r_i)^{t-1}}{r_i} -\\dfrac{c}{r_i^2}((1 + r_i)^{t}-1) \\end{matrix} $\n",
    "\n",
    "##### Solving for t\n",
    "$ \\Large t = \\dfrac{ln \\Big (\\tfrac{FV*r}{c} + 1 \\Big )}{ln(1+r)} $"
   ]
  },
  {
   "cell_type": "code",
   "execution_count": 6,
   "id": "bcc2657a",
   "metadata": {},
   "outputs": [
    {
     "name": "stdout",
     "output_type": "stream",
     "text": [
      "Formulas Check Out:  6.999999995394892\n"
     ]
    }
   ],
   "source": [
    "# Create an Annuity FV class\n",
    "\n",
    "class AFV:\n",
    "    \n",
    "    # Calculates the future value of an annuity given a payment stream, interest rate, and time\n",
    "    def FV(c, r, t):\n",
    "        return (c/r)*((1+r)**t - 1)\n",
    "    \n",
    "    # Calculates the cash flow of an annuity given the future value, interest rate, and time\n",
    "    def C(fv, r, t):\n",
    "        return (fv*r)/((1+r)**t - 1)\n",
    "    \n",
    "    # Calculates the interest rate of an annuity given the future value, cash flow, and time\n",
    "    def R(fv, c, t):\n",
    "        # Define initial interest rates\n",
    "        r0, r1 = 0.01, 0.99\n",
    "        \n",
    "        # Define error level\n",
    "        error = 0.0001\n",
    "        \n",
    "        # Define derivative\n",
    "        def derivative(c, r, t):\n",
    "            A = (c*t*(1+r)**(t - 1))/r\n",
    "            B = (c/r**2)*((1 + r)**t - 1)\n",
    "            return A - B\n",
    "        \n",
    "        # Loop until rate is calculated\n",
    "        while True:\n",
    "            \n",
    "            # Newton-Ralphson formula\n",
    "            r1 = r0 - (AFV.FV(c, r0, t) - fv)/derivative(c, r0, t)\n",
    "            \n",
    "            # Break if error level is met\n",
    "            if abs(r1 - r0) < error:\n",
    "                break\n",
    "            \n",
    "            # Iteration\n",
    "            r0 = r1\n",
    "            \n",
    "        return r1\n",
    "    \n",
    "    # Returns the time length of an annuity given its future value, cash flow, and interest rate\n",
    "    def T(fv, c, r):\n",
    "        return np.log(fv*r/c + 1)/np.log(1 + r)\n",
    "    \n",
    "\n",
    "c = AFV.C(9000, 0.05, 7)\n",
    "fv = AFV.FV(c, 0.05, 7)\n",
    "r = AFV.R(fv, c, 7)\n",
    "t = AFV.T(fv, c, r)\n",
    "print(\"Formulas Check Out: \", t)"
   ]
  },
  {
   "cell_type": "markdown",
   "id": "abf92daf-7039-4826-82f3-fe26f982e30d",
   "metadata": {},
   "source": [
    "## AnnuityPVDUE [APVD]\n",
    "\n",
    "##### Solving for PV Due\n",
    "$ \\Large PV = c + \\dfrac{c}{r}(1 - (1 + r)^{-t}) $\n",
    "\n",
    "##### Solving for C Due\n",
    "$ C = \\Large \\dfrac{PV}{1 + \\tfrac{1}{r}(1 - (1 + r)^{-t})} $"
   ]
  },
  {
   "cell_type": "markdown",
   "id": "e3fa1b9c-ab3c-4799-8cdc-c2b5fb34333e",
   "metadata": {},
   "source": [
    "##### Solving for r\n",
    "\n",
    "In order to solve for 'r' in the Annuity Due formula, we need to use the Newton-Ralphson method which takes the present value function and calculates its derivative using the product rule. We then select an arbitrary rate 'r = 0.01' for example and do the following formula.\n",
    "\n",
    "\n",
    "\n",
    "$ \\Large r_{i+1} = r_i - \\dfrac{f(r_i) - PV}{\\partial f(r_i)} $\n",
    "\n",
    "for a number of 'i' iterations.\n",
    "\n",
    "$ \\Large \\begin{matrix} f(r_i) = c + \\dfrac{c}{r_i}(1 - (1 + r_i)^{-t})  \\\\ \\partial f(r_i) = t \\Bigg (\\dfrac{C}{r_i} \\Bigg) \\Bigg ( \\dfrac{1}{(1+r_i)^{t+1}} \\Bigg ) - \\dfrac{C}{r_i^2}(1-(1+r)^{-t})\\end{matrix} $\n",
    "\n",
    "##### Solving for t\n",
    "$ \\Large t=-\\dfrac{ln\\Bigg(1-\\dfrac{r(PV-C)}{C}\\Bigg)}{(1+r)} $\n",
    "\n"
   ]
  },
  {
   "cell_type": "code",
   "execution_count": 23,
   "id": "8f070455-fc8e-497f-bf32-a732b779955a",
   "metadata": {},
   "outputs": [
    {
     "name": "stdout",
     "output_type": "stream",
     "text": [
      "Annuity Due PV Formulas Check Out:  0.03999999999507701\n"
     ]
    }
   ],
   "source": [
    "# This class holds the present value annuity due functions\n",
    "class APVD:\n",
    "\n",
    "    # Calculates present value of annuity due\n",
    "    def PV(c, r, t):\n",
    "        return c + (c/r)*(1-(1+r)**(-t))\n",
    "\n",
    "    # Calculates the cash flow of annuity due\n",
    "    def C(pv, r, t):\n",
    "        return pv / (1 + (1/r)*(1-(1+r)**(-t)))\n",
    "\n",
    "    # Calculates the interest rate of an annuity due\n",
    "    def R(c, pv, t):\n",
    "\n",
    "        # Derivative of annuity due formula\n",
    "        def derivative(c, r, t):\n",
    "            A = t*(c/r)*1/(1+r)**(t+1)\n",
    "            B = (c/r**2)*(1-(1+r)**(-t))\n",
    "            return A - B\n",
    "\n",
    "        # Initial rates\n",
    "        r0, r1 = 0.1, 0.99\n",
    "\n",
    "        # Newton-Ralphson method to find optimal rate\n",
    "        while True:\n",
    "            r1 = r0 - (APVD.PV(c, r0, t) - pv) / derivative(c, r0, t)\n",
    "            if abs(r1 - r0) < 0.00001:\n",
    "                break\n",
    "            r0 = r1\n",
    "\n",
    "        return r1\n",
    "\n",
    "    # Find the time of an annuity due\n",
    "    def T(c, pv, r):\n",
    "        z = r*(pv - c)/c\n",
    "        z = 1 - z\n",
    "        return -np.log(z)/np.log(1+r)\n",
    "\n",
    "pv = APVD.PV(300, 0.04, 9)\n",
    "t = APVD.T(300, pv, 0.04)\n",
    "r = APVD.R(300, pv, t)\n",
    "print('Annuity Due PV Formulas Check Out: ', r)"
   ]
  },
  {
   "cell_type": "markdown",
   "id": "6fb58db7-6192-4ab8-8f37-c1c6b8281a52",
   "metadata": {},
   "source": [
    "## AnnuityFVDUE [AFVD]\n",
    "\n",
    "##### Solving for FV\n",
    "$ \\Large FV = \\dfrac{c}{r}((1 + r)^t - 1)(1+r) $\n",
    "\n",
    "##### Solving for C\n",
    "$ C = \\Large \\dfrac{FV*r}{((1 + r)^t - 1)(1+r)} $"
   ]
  },
  {
   "cell_type": "markdown",
   "id": "4d35dfd1-e926-40e1-ab30-b8264765b667",
   "metadata": {},
   "source": [
    "##### Solving for r\n",
    "\n",
    "In order to solve for 'r' in the Annuity formula, we need to use the Newton-Ralphson method which takes the present value function and calculates its derivative using the product rule. We then select an arbitrary rate 'r = 0.01' for example and do the following formula.\n",
    "\n",
    "\n",
    "$ \\Large r_{i+1} = r_i - \\dfrac{f(r_i) - FV}{\\partial f(r_i)} $\n",
    "\n",
    "for a number of 'i' iterations.\n",
    "\n",
    "$ \\Large \\begin{matrix} f(r_i) = \\dfrac{c}{r_i}((1 + r_i)^{t} - 1)(1 + r_i)  \\\\ \\partial f(r_i) = \\dfrac{ct(1+r_i)^{t-1}}{r_i} -\\dfrac{c}{r_i^2}((1 + r_i)^{t}-1) \\end{matrix} $\n",
    "\n",
    "##### Solving for t\n",
    "$ \\Large t=\\dfrac{ln \\Bigg (1 + \\dfrac{FV*r}{C(1+r)} \\Bigg )}{ln(1+r)} $"
   ]
  },
  {
   "cell_type": "code",
   "execution_count": 29,
   "id": "9dc62cb2-00e5-4b39-99c7-c01dc885c3e5",
   "metadata": {},
   "outputs": [
    {
     "name": "stdout",
     "output_type": "stream",
     "text": [
      "Annuity Future Value Due Checks Out:  7.000474245436026\n"
     ]
    }
   ],
   "source": [
    "class AFVD:\n",
    "\n",
    "    def FV(c, r, t):\n",
    "        return (c/r)*((1+r)**t - 1)*(1 + r)\n",
    "\n",
    "    def C(fv, r, t):\n",
    "        bot = ((1 + r)**t - 1)*(1+r)\n",
    "        return (fv*r)/bot\n",
    "\n",
    "    def R(fv, c, t):\n",
    "        # Define initial interest rates\n",
    "        r0, r1 = 0.01, 0.99\n",
    "        \n",
    "        # Define error level\n",
    "        error = 0.0001\n",
    "        \n",
    "        # Define derivative\n",
    "        def derivative(c, r, t):\n",
    "            A = (c*t*(1+r)**(t - 1))/r\n",
    "            B = (c/r**2)*((1 + r)**t - 1)\n",
    "            return A - B\n",
    "        \n",
    "        # Loop until rate is calculated\n",
    "        while True:\n",
    "            \n",
    "            # Newton-Ralphson formula\n",
    "            r1 = r0 - (AFVD.FV(c, r0, t) - fv)/derivative(c, r0, t)\n",
    "            \n",
    "            # Break if error level is met\n",
    "            if abs(r1 - r0) < error:\n",
    "                break\n",
    "            \n",
    "            # Iteration\n",
    "            r0 = r1\n",
    "            \n",
    "        return r1\n",
    "\n",
    "    # Calculates the number of payments\n",
    "    def T(c, fv, r):\n",
    "        A = (fv*r)\n",
    "        B = c*(1 + r)\n",
    "        z = 1 + A/B\n",
    "        return np.log(z)/np.log(1 + r)\n",
    "\n",
    "fv = AFVD.FV(600, 0.16, 7)\n",
    "r = AFVD.R(fv, 600, 7)\n",
    "t = AFVD.T(600, fv, r)\n",
    "print('Annuity Future Value Due Checks Out: ', t)"
   ]
  },
  {
   "cell_type": "markdown",
   "id": "dd175c08-77b6-42b1-82b1-57b0415f6796",
   "metadata": {},
   "source": [
    "## Internal Rate of Return\n",
    "In order to find the Internal Rate of Return, we need to use the Newton-Ralphson method again. This time however, we will be taking the derivative of the Net Present Value function with respect to r. We will then perform the iterative process to find the correct internal rate of return.\n",
    "\n",
    "$ \\begin{matrix} \\Large f(r) = \\sum_{t=0}^n \\dfrac{C_i}{(1+r)^t} \\\\ \\\\ \\Large \\partial f(r) = \\sum_{t=0}^n \\dfrac{-tC_i}{(1+r)^{t+1}}\\end{matrix} $"
   ]
  },
  {
   "cell_type": "code",
   "execution_count": 30,
   "id": "a6bcfa33-31ba-4a46-837d-dfe67685874c",
   "metadata": {},
   "outputs": [
    {
     "name": "stdout",
     "output_type": "stream",
     "text": [
      "6.1513247828770545e-09\n"
     ]
    }
   ],
   "source": [
    "# IRR Function\n",
    "def IRR(cf):\n",
    "    \n",
    "    # NPV Function\n",
    "    fr = lambda cf, r: sum([val/(1+r)**t for t, val in enumerate(cf)])\n",
    "\n",
    "    # Derivative\n",
    "    dfr = lambda cf, r: sum([-t*val/(1+r)**(t+1) for t, val in enumerate(cf)])\n",
    "\n",
    "    # Initial Rates\n",
    "    r0, r1 = 0.11, 0.99\n",
    "\n",
    "    # Error Level\n",
    "    error = 0.0001\n",
    "    while True:\n",
    "        # Newton-Ralphson Formula\n",
    "        r1 = r0 - fr(cf, r0)/dfr(cf, r0)\n",
    "\n",
    "        # End while loop when rate is found\n",
    "        if abs(r1 - r0) < error:\n",
    "            break\n",
    "\n",
    "        # Make r0 = r1 to update formula\n",
    "        r0 = r1\n",
    "    return r1\n",
    "\n",
    "cf = [-100,20,30,40,50, 60]\n",
    "irr = IRR(cf)\n",
    "check = sum([val/pow(1 + irr, t) for t, val in enumerate(cf)])\n",
    "print(check)"
   ]
  }
 ],
 "metadata": {
  "kernelspec": {
   "display_name": "Python 3 (ipykernel)",
   "language": "python",
   "name": "python3"
  },
  "language_info": {
   "codemirror_mode": {
    "name": "ipython",
    "version": 3
   },
   "file_extension": ".py",
   "mimetype": "text/x-python",
   "name": "python",
   "nbconvert_exporter": "python",
   "pygments_lexer": "ipython3",
   "version": "3.11.5"
  }
 },
 "nbformat": 4,
 "nbformat_minor": 5
}
